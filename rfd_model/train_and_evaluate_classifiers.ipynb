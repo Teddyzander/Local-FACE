{
 "cells": [
  {
   "cell_type": "markdown",
   "metadata": {},
   "source": [
    "## Script for training ready-for-discharge (RFD) classifiers using multiple source cross-validation. \n",
    "\n",
    "#### TODO: implement multiple folds per source when using both MIMIC and GICU."
   ]
  },
  {
   "cell_type": "code",
   "execution_count": 348,
   "metadata": {
    "tags": []
   },
   "outputs": [],
   "source": [
    "import pandas as pd\n",
    "import numpy as np\n",
    "import bisect\n",
    "import pickle\n",
    "import yaml\n",
    "from pathlib import Path\n",
    "\n",
    "from sklearn import linear_model\n",
    "from sklearn.model_selection import train_test_split\n",
    "from sklearn.ensemble import RandomForestClassifier\n",
    "from sklearn.metrics import roc_curve, precision_recall_curve, roc_auc_score, brier_score_loss\n",
    "from sklearn.metrics import auc as auc_metric\n",
    "from sklearn.model_selection import GridSearchCV\n",
    "from sklearn.metrics import fbeta_score, make_scorer, f1_score, accuracy_score\n",
    "from sklearn.model_selection import PredefinedSplit\n",
    "from sklearn.preprocessing import StandardScaler\n",
    "from sklearn.compose import ColumnTransformer\n",
    "\n",
    "import matplotlib.pyplot as plt\n",
    "import joblib\n",
    "%matplotlib inline"
   ]
  },
  {
   "cell_type": "code",
   "execution_count": 317,
   "metadata": {
    "tags": []
   },
   "outputs": [],
   "source": [
    "original_features = [\n",
    "    'airway', 'fio2', 'spo2_min', \n",
    "    'hco3', 'resp_min', 'resp_max', \n",
    "    'bp_min', 'hr_min', 'hr_max', 'pain', \n",
    "    'gcs_min', 'temp_min', 'temp_max', \n",
    "    'haemoglobin', 'k','na','creatinine','bun'\n",
    "] \n",
    "\n",
    "config = {\n",
    "    'data_sources': ['mimic', 'gicu'],  # 'gicu' can be included or omitted to train on MIMIC only\n",
    "    'feature_set': 'extended',  # 'extended' includes demographic features\n",
    "    'features': {\n",
    "        'original': original_features,\n",
    "        'extended': original_features + ['bmi', 'los', 'age', 'sex']\n",
    "    },\n",
    "    'fit_score': None,  # optimise hyperparameters according to this score (e.g. 'f1')\n",
    "    'n_splits': 1,  # number of repeated train:test splits to evaluate for peformance statistics\n",
    "    'random_seed': 42,\n",
    "    'missing_data_treatment': 'imputed',  # or 'completecase'\n",
    "    'data_directory': Path('./fms/'),\n",
    "    'results_directory': Path('./results'),\n",
    "    'fpr_range': np.linspace(0.1, 1, 10),  # false positive rates at which to evaluate relevant performance metrics\n",
    "    'cv_folds': 5,  # number of cross-validation folds to use (currently only used when GICU is omitted)\n",
    "    'test_size': 0.4  # fraction to hold out for test\n",
    "}"
   ]
  },
  {
   "cell_type": "code",
   "execution_count": 319,
   "metadata": {
    "tags": []
   },
   "outputs": [],
   "source": [
    "features = config['features'][config['feature_set']]\n",
    "\n",
    "with open(config['results_directory'] / 'config.yaml', 'w') as out_file:\n",
    "    yaml.dump(config, out_file)"
   ]
  },
  {
   "cell_type": "code",
   "execution_count": 320,
   "metadata": {
    "tags": []
   },
   "outputs": [],
   "source": [
    "def fm_path(data_source, missing_data, feature_set, standardised=False, standard_scaled = True):\n",
    "    \n",
    "    file_name = \"fm_%s_%s_%s\" % (data_source, missing_data, feature_set)\n",
    "    \n",
    "    if standardised:\n",
    "        file_name = file_name + '_standardised'\n",
    "    elif standard_scaled:\n",
    "        file_name = file_name + '_standardscale'\n",
    "    \n",
    "    return (config['data_directory'] / file_name).with_suffix('.csv')"
   ]
  },
  {
   "cell_type": "code",
   "execution_count": 321,
   "metadata": {
    "tags": []
   },
   "outputs": [],
   "source": [
    "fm_mimic = pd.read_csv(fm_path('mimic', config['missing_data_treatment'], config['feature_set']))\n",
    "\n",
    "fm_gicu = (\n",
    "    pd.read_csv(fm_path('gicu', config['missing_data_treatment'], config['feature_set']))\n",
    "    if 'gicu' in config['data_sources']\n",
    "    else None\n",
    ")"
   ]
  },
  {
   "cell_type": "code",
   "execution_count": 323,
   "metadata": {
    "tags": []
   },
   "outputs": [
    {
     "name": "stdout",
     "output_type": "stream",
     "text": [
      "MIMIC cohort contains:  13243  patients.\n",
      "GICU cohort contains:  3506  patients.\n"
     ]
    }
   ],
   "source": [
    "print(\"MIMIC cohort contains: \", len(fm_mimic), \" patients.\")\n",
    "if 'gicu' in config['data_sources']:\n",
    "    print(\"GICU cohort contains: \", len(fm_gicu), \" patients.\")"
   ]
  },
  {
   "cell_type": "code",
   "execution_count": 324,
   "metadata": {},
   "outputs": [
    {
     "data": {
      "text/html": [
       "<div>\n",
       "<style scoped>\n",
       "    .dataframe tbody tr th:only-of-type {\n",
       "        vertical-align: middle;\n",
       "    }\n",
       "\n",
       "    .dataframe tbody tr th {\n",
       "        vertical-align: top;\n",
       "    }\n",
       "\n",
       "    .dataframe thead th {\n",
       "        text-align: right;\n",
       "    }\n",
       "</style>\n",
       "<table border=\"1\" class=\"dataframe\">\n",
       "  <thead>\n",
       "    <tr style=\"text-align: right;\">\n",
       "      <th></th>\n",
       "      <th>ICUSTAY_ID</th>\n",
       "      <th>cohort</th>\n",
       "      <th>outcome</th>\n",
       "      <th>airway</th>\n",
       "      <th>fio2</th>\n",
       "      <th>spo2_min</th>\n",
       "      <th>hco3</th>\n",
       "      <th>resp_min</th>\n",
       "      <th>resp_max</th>\n",
       "      <th>bp_min</th>\n",
       "      <th>...</th>\n",
       "      <th>temp_max</th>\n",
       "      <th>haemoglobin</th>\n",
       "      <th>k</th>\n",
       "      <th>na</th>\n",
       "      <th>creatinine</th>\n",
       "      <th>bun</th>\n",
       "      <th>bmi</th>\n",
       "      <th>los</th>\n",
       "      <th>age</th>\n",
       "      <th>sex</th>\n",
       "    </tr>\n",
       "  </thead>\n",
       "  <tbody>\n",
       "    <tr>\n",
       "      <th>0</th>\n",
       "      <td>200289</td>\n",
       "      <td>1</td>\n",
       "      <td>0</td>\n",
       "      <td>-0.569427</td>\n",
       "      <td>1.313961</td>\n",
       "      <td>-0.310969</td>\n",
       "      <td>0.063247</td>\n",
       "      <td>-0.703850</td>\n",
       "      <td>-1.170127</td>\n",
       "      <td>2.003506</td>\n",
       "      <td>...</td>\n",
       "      <td>0.748216</td>\n",
       "      <td>-0.300501</td>\n",
       "      <td>0.824259</td>\n",
       "      <td>-0.710476</td>\n",
       "      <td>-0.443744</td>\n",
       "      <td>-0.765125</td>\n",
       "      <td>0.022914</td>\n",
       "      <td>-0.678402</td>\n",
       "      <td>-0.148308</td>\n",
       "      <td>1.088614</td>\n",
       "    </tr>\n",
       "    <tr>\n",
       "      <th>1</th>\n",
       "      <td>200325</td>\n",
       "      <td>1</td>\n",
       "      <td>0</td>\n",
       "      <td>-0.569427</td>\n",
       "      <td>0.575756</td>\n",
       "      <td>1.111420</td>\n",
       "      <td>1.112160</td>\n",
       "      <td>0.588508</td>\n",
       "      <td>-0.009624</td>\n",
       "      <td>0.891544</td>\n",
       "      <td>...</td>\n",
       "      <td>0.590078</td>\n",
       "      <td>-0.421960</td>\n",
       "      <td>-0.813367</td>\n",
       "      <td>0.121503</td>\n",
       "      <td>-0.575071</td>\n",
       "      <td>-0.572680</td>\n",
       "      <td>-0.038786</td>\n",
       "      <td>0.666224</td>\n",
       "      <td>-0.350284</td>\n",
       "      <td>1.088614</td>\n",
       "    </tr>\n",
       "    <tr>\n",
       "      <th>2</th>\n",
       "      <td>200352</td>\n",
       "      <td>1</td>\n",
       "      <td>0</td>\n",
       "      <td>-0.569427</td>\n",
       "      <td>-0.103393</td>\n",
       "      <td>0.542465</td>\n",
       "      <td>0.902378</td>\n",
       "      <td>0.750053</td>\n",
       "      <td>-0.175410</td>\n",
       "      <td>-0.081422</td>\n",
       "      <td>...</td>\n",
       "      <td>-0.754306</td>\n",
       "      <td>-0.385523</td>\n",
       "      <td>0.278384</td>\n",
       "      <td>-0.918471</td>\n",
       "      <td>1.854473</td>\n",
       "      <td>0.678209</td>\n",
       "      <td>-0.028783</td>\n",
       "      <td>-0.632502</td>\n",
       "      <td>0.033471</td>\n",
       "      <td>1.088614</td>\n",
       "    </tr>\n",
       "    <tr>\n",
       "      <th>3</th>\n",
       "      <td>200671</td>\n",
       "      <td>1</td>\n",
       "      <td>0</td>\n",
       "      <td>-0.569427</td>\n",
       "      <td>0.206653</td>\n",
       "      <td>-1.164403</td>\n",
       "      <td>1.321943</td>\n",
       "      <td>2.203955</td>\n",
       "      <td>1.150879</td>\n",
       "      <td>-1.286047</td>\n",
       "      <td>...</td>\n",
       "      <td>0.115523</td>\n",
       "      <td>-0.434106</td>\n",
       "      <td>-0.449450</td>\n",
       "      <td>1.577467</td>\n",
       "      <td>-0.575071</td>\n",
       "      <td>-0.572680</td>\n",
       "      <td>-0.003999</td>\n",
       "      <td>-0.496825</td>\n",
       "      <td>0.033471</td>\n",
       "      <td>1.088614</td>\n",
       "    </tr>\n",
       "    <tr>\n",
       "      <th>4</th>\n",
       "      <td>201004</td>\n",
       "      <td>1</td>\n",
       "      <td>0</td>\n",
       "      <td>-0.569427</td>\n",
       "      <td>0.206653</td>\n",
       "      <td>1.111420</td>\n",
       "      <td>-1.405231</td>\n",
       "      <td>0.588508</td>\n",
       "      <td>1.316665</td>\n",
       "      <td>-0.081422</td>\n",
       "      <td>...</td>\n",
       "      <td>0.273803</td>\n",
       "      <td>-0.415887</td>\n",
       "      <td>-1.177284</td>\n",
       "      <td>-1.334461</td>\n",
       "      <td>-0.575071</td>\n",
       "      <td>-0.957569</td>\n",
       "      <td>0.000952</td>\n",
       "      <td>-0.396053</td>\n",
       "      <td>-0.996609</td>\n",
       "      <td>1.088614</td>\n",
       "    </tr>\n",
       "    <tr>\n",
       "      <th>...</th>\n",
       "      <td>...</td>\n",
       "      <td>...</td>\n",
       "      <td>...</td>\n",
       "      <td>...</td>\n",
       "      <td>...</td>\n",
       "      <td>...</td>\n",
       "      <td>...</td>\n",
       "      <td>...</td>\n",
       "      <td>...</td>\n",
       "      <td>...</td>\n",
       "      <td>...</td>\n",
       "      <td>...</td>\n",
       "      <td>...</td>\n",
       "      <td>...</td>\n",
       "      <td>...</td>\n",
       "      <td>...</td>\n",
       "      <td>...</td>\n",
       "      <td>...</td>\n",
       "      <td>...</td>\n",
       "      <td>...</td>\n",
       "      <td>...</td>\n",
       "    </tr>\n",
       "    <tr>\n",
       "      <th>13238</th>\n",
       "      <td>298981</td>\n",
       "      <td>1</td>\n",
       "      <td>1</td>\n",
       "      <td>-0.569427</td>\n",
       "      <td>-0.162449</td>\n",
       "      <td>0.542465</td>\n",
       "      <td>0.692595</td>\n",
       "      <td>1.234687</td>\n",
       "      <td>2.311382</td>\n",
       "      <td>-0.266749</td>\n",
       "      <td>...</td>\n",
       "      <td>0.273803</td>\n",
       "      <td>-0.428033</td>\n",
       "      <td>-0.267492</td>\n",
       "      <td>0.329498</td>\n",
       "      <td>-0.575071</td>\n",
       "      <td>-0.909458</td>\n",
       "      <td>-0.050423</td>\n",
       "      <td>-0.260552</td>\n",
       "      <td>-0.269494</td>\n",
       "      <td>-0.918599</td>\n",
       "    </tr>\n",
       "    <tr>\n",
       "      <th>13239</th>\n",
       "      <td>299046</td>\n",
       "      <td>1</td>\n",
       "      <td>1</td>\n",
       "      <td>-0.569427</td>\n",
       "      <td>0.575756</td>\n",
       "      <td>-0.026491</td>\n",
       "      <td>0.063247</td>\n",
       "      <td>0.750053</td>\n",
       "      <td>0.985093</td>\n",
       "      <td>-0.313081</td>\n",
       "      <td>...</td>\n",
       "      <td>0.194663</td>\n",
       "      <td>-0.452325</td>\n",
       "      <td>-1.177284</td>\n",
       "      <td>0.537493</td>\n",
       "      <td>-0.575071</td>\n",
       "      <td>-0.957569</td>\n",
       "      <td>0.160158</td>\n",
       "      <td>-0.463451</td>\n",
       "      <td>-0.956214</td>\n",
       "      <td>1.088614</td>\n",
       "    </tr>\n",
       "    <tr>\n",
       "      <th>13240</th>\n",
       "      <td>299652</td>\n",
       "      <td>1</td>\n",
       "      <td>1</td>\n",
       "      <td>-0.569427</td>\n",
       "      <td>2.052166</td>\n",
       "      <td>-0.595447</td>\n",
       "      <td>-0.775883</td>\n",
       "      <td>-0.219216</td>\n",
       "      <td>-0.341196</td>\n",
       "      <td>-0.405744</td>\n",
       "      <td>...</td>\n",
       "      <td>1.538904</td>\n",
       "      <td>-0.409814</td>\n",
       "      <td>-0.085533</td>\n",
       "      <td>0.537493</td>\n",
       "      <td>-0.115427</td>\n",
       "      <td>-0.765125</td>\n",
       "      <td>-0.005415</td>\n",
       "      <td>-0.600881</td>\n",
       "      <td>4.638537</td>\n",
       "      <td>1.088614</td>\n",
       "    </tr>\n",
       "    <tr>\n",
       "      <th>13241</th>\n",
       "      <td>299764</td>\n",
       "      <td>1</td>\n",
       "      <td>1</td>\n",
       "      <td>-0.569427</td>\n",
       "      <td>-3.115270</td>\n",
       "      <td>-0.310969</td>\n",
       "      <td>1.112160</td>\n",
       "      <td>-0.703850</td>\n",
       "      <td>-0.506983</td>\n",
       "      <td>1.957174</td>\n",
       "      <td>...</td>\n",
       "      <td>1.380766</td>\n",
       "      <td>-0.309611</td>\n",
       "      <td>0.096425</td>\n",
       "      <td>0.745488</td>\n",
       "      <td>-0.246754</td>\n",
       "      <td>-0.717014</td>\n",
       "      <td>0.170799</td>\n",
       "      <td>-0.619221</td>\n",
       "      <td>-0.471470</td>\n",
       "      <td>-0.918599</td>\n",
       "    </tr>\n",
       "    <tr>\n",
       "      <th>13242</th>\n",
       "      <td>299802</td>\n",
       "      <td>1</td>\n",
       "      <td>1</td>\n",
       "      <td>-0.569427</td>\n",
       "      <td>-0.162449</td>\n",
       "      <td>1.395898</td>\n",
       "      <td>-0.985666</td>\n",
       "      <td>0.265419</td>\n",
       "      <td>-0.175410</td>\n",
       "      <td>0.381895</td>\n",
       "      <td>...</td>\n",
       "      <td>-1.544994</td>\n",
       "      <td>-0.358194</td>\n",
       "      <td>-0.813367</td>\n",
       "      <td>0.953483</td>\n",
       "      <td>-0.312417</td>\n",
       "      <td>-0.235902</td>\n",
       "      <td>-0.092624</td>\n",
       "      <td>-0.318965</td>\n",
       "      <td>4.618339</td>\n",
       "      <td>1.088614</td>\n",
       "    </tr>\n",
       "  </tbody>\n",
       "</table>\n",
       "<p>13243 rows × 25 columns</p>\n",
       "</div>"
      ],
      "text/plain": [
       "       ICUSTAY_ID  cohort  outcome    airway      fio2  spo2_min      hco3  \\\n",
       "0          200289       1        0 -0.569427  1.313961 -0.310969  0.063247   \n",
       "1          200325       1        0 -0.569427  0.575756  1.111420  1.112160   \n",
       "2          200352       1        0 -0.569427 -0.103393  0.542465  0.902378   \n",
       "3          200671       1        0 -0.569427  0.206653 -1.164403  1.321943   \n",
       "4          201004       1        0 -0.569427  0.206653  1.111420 -1.405231   \n",
       "...           ...     ...      ...       ...       ...       ...       ...   \n",
       "13238      298981       1        1 -0.569427 -0.162449  0.542465  0.692595   \n",
       "13239      299046       1        1 -0.569427  0.575756 -0.026491  0.063247   \n",
       "13240      299652       1        1 -0.569427  2.052166 -0.595447 -0.775883   \n",
       "13241      299764       1        1 -0.569427 -3.115270 -0.310969  1.112160   \n",
       "13242      299802       1        1 -0.569427 -0.162449  1.395898 -0.985666   \n",
       "\n",
       "       resp_min  resp_max    bp_min  ...  temp_max  haemoglobin         k  \\\n",
       "0     -0.703850 -1.170127  2.003506  ...  0.748216    -0.300501  0.824259   \n",
       "1      0.588508 -0.009624  0.891544  ...  0.590078    -0.421960 -0.813367   \n",
       "2      0.750053 -0.175410 -0.081422  ... -0.754306    -0.385523  0.278384   \n",
       "3      2.203955  1.150879 -1.286047  ...  0.115523    -0.434106 -0.449450   \n",
       "4      0.588508  1.316665 -0.081422  ...  0.273803    -0.415887 -1.177284   \n",
       "...         ...       ...       ...  ...       ...          ...       ...   \n",
       "13238  1.234687  2.311382 -0.266749  ...  0.273803    -0.428033 -0.267492   \n",
       "13239  0.750053  0.985093 -0.313081  ...  0.194663    -0.452325 -1.177284   \n",
       "13240 -0.219216 -0.341196 -0.405744  ...  1.538904    -0.409814 -0.085533   \n",
       "13241 -0.703850 -0.506983  1.957174  ...  1.380766    -0.309611  0.096425   \n",
       "13242  0.265419 -0.175410  0.381895  ... -1.544994    -0.358194 -0.813367   \n",
       "\n",
       "             na  creatinine       bun       bmi       los       age       sex  \n",
       "0     -0.710476   -0.443744 -0.765125  0.022914 -0.678402 -0.148308  1.088614  \n",
       "1      0.121503   -0.575071 -0.572680 -0.038786  0.666224 -0.350284  1.088614  \n",
       "2     -0.918471    1.854473  0.678209 -0.028783 -0.632502  0.033471  1.088614  \n",
       "3      1.577467   -0.575071 -0.572680 -0.003999 -0.496825  0.033471  1.088614  \n",
       "4     -1.334461   -0.575071 -0.957569  0.000952 -0.396053 -0.996609  1.088614  \n",
       "...         ...         ...       ...       ...       ...       ...       ...  \n",
       "13238  0.329498   -0.575071 -0.909458 -0.050423 -0.260552 -0.269494 -0.918599  \n",
       "13239  0.537493   -0.575071 -0.957569  0.160158 -0.463451 -0.956214  1.088614  \n",
       "13240  0.537493   -0.115427 -0.765125 -0.005415 -0.600881  4.638537  1.088614  \n",
       "13241  0.745488   -0.246754 -0.717014  0.170799 -0.619221 -0.471470 -0.918599  \n",
       "13242  0.953483   -0.312417 -0.235902 -0.092624 -0.318965  4.618339  1.088614  \n",
       "\n",
       "[13243 rows x 25 columns]"
      ]
     },
     "execution_count": 324,
     "metadata": {},
     "output_type": "execute_result"
    }
   ],
   "source": [
    "fm_mimic"
   ]
  },
  {
   "cell_type": "code",
   "execution_count": 325,
   "metadata": {
    "tags": []
   },
   "outputs": [],
   "source": [
    "def split_data(mimic,\n",
    "                gicu, test_size=config['test_size'],\n",
    "                seed=config['random_seed'],\n",
    "                VERBOSE=True):\n",
    "    \n",
    "    if gicu is not None:\n",
    "        # first we split the smaller GICU data according to test_size\n",
    "        g_train, g_test = train_test_split(fm_gicu, test_size=test_size, random_state=seed)\n",
    "\n",
    "        # then split MIMIC such that size of m_test equals that of g_test\n",
    "        mfrac = len(g_test) / len(fm_mimic)\n",
    "        \n",
    "    else:\n",
    "        g_train = None\n",
    "        g_test = None\n",
    "        mfrac = test_size\n",
    "        \n",
    "    m_train, m_test = train_test_split(fm_mimic, test_size=mfrac, random_state=seed)\n",
    "    \n",
    "    if VERBOSE:\n",
    "        print(\"Using %.4f of MIMIC as training data\" %(1-mfrac))\n",
    "        print(\"giving test sets gicu_test:%d and mimic_test: %d\" %(len(g_test) if g_test is not None else 0,len(m_test)))\n",
    "\n",
    "\n",
    "    return m_train, m_test, g_train, g_test"
   ]
  },
  {
   "cell_type": "code",
   "execution_count": 326,
   "metadata": {
    "tags": []
   },
   "outputs": [
    {
     "name": "stdout",
     "output_type": "stream",
     "text": [
      "Using 0.8941 of MIMIC as training data\n",
      "giving test sets gicu_test:1403 and mimic_test: 1403\n"
     ]
    }
   ],
   "source": [
    "_,_,_,_ = split_data(fm_mimic, fm_gicu)"
   ]
  },
  {
   "cell_type": "code",
   "execution_count": 327,
   "metadata": {
    "tags": []
   },
   "outputs": [],
   "source": [
    "def get_fpr_tpr_for_threshold(fpr, tpr, threshold, prob_thresholds):\n",
    "    p = bisect.bisect_left(fpr, threshold)\n",
    "    fpr = fpr.copy()\n",
    "    fpr[p] = threshold\n",
    "    return fpr[: p + 1], tpr[: p + 1], prob_thresholds[: p + 1]\n",
    "\n",
    "def partial_auc_score(y, y_pred, threshold=0.5):\n",
    "    fpr, tpr, prob_thresholds = roc_curve(y, y_pred, pos_label=1) \n",
    "    fpr_t, tpr_t, _ = get_fpr_tpr_for_threshold(fpr, tpr, threshold, prob_thresholds)\n",
    "    \n",
    "    return auc_metric(fpr_t,tpr_t) \n",
    "\n",
    "def calculate_all_metrics(ytrue, ypred, fpr_thresh):\n",
    "    \n",
    "    results = {}\n",
    "    fpr, tpr, prob_thresholds = roc_curve(ytrue, ypred, pos_label=1) \n",
    "    fpr_t, tpr_t, cutoff = get_fpr_tpr_for_threshold(fpr, tpr, fpr_thresh, prob_thresholds)\n",
    "    \n",
    "    ypred_class = ypred>=cutoff[-1]\n",
    "    \n",
    "    results['f1'] = f1_score(ytrue, ypred_class)\n",
    "    results['accuracy'] = accuracy_score(ytrue, ypred_class)\n",
    "    results['sensitivity'] = tpr_t[-1]\n",
    "    results['specificity'] = 1 - fpr_t[-1]\n",
    "    results['pauc'] = partial_auc_score(ytrue, ypred, threshold=fpr_thresh)\n",
    "    \n",
    "    return results"
   ]
  },
  {
   "cell_type": "code",
   "execution_count": 328,
   "metadata": {
    "tags": []
   },
   "outputs": [],
   "source": [
    "def store_performance_results(ytrue, ypred, results_dict, sps, dbsource=None):\n",
    "    \n",
    "    auc = roc_auc_score(ytrue, ypred)\n",
    "    brier = brier_score_loss(ytrue, ypred)\n",
    "    \n",
    "    results_dict['performance_%s' %dbsource]['auc'].append(auc)\n",
    "    results_dict['performance_%s' %dbsource]['brier'].append(brier)\n",
    "    \n",
    "    for ff in config['fpr_range']:\n",
    "        \n",
    "        results = calculate_all_metrics(ytrue, ypred, ff)\n",
    "        for metric, result in results.items():\n",
    "            results_dict['performance_%s' %dbsource][metric]['%.2f' %ff].append(result)\n",
    "    \n",
    "    return results_dict"
   ]
  },
  {
   "cell_type": "code",
   "execution_count": 330,
   "metadata": {
    "tags": []
   },
   "outputs": [],
   "source": [
    "def optimise_return_test_scores(\n",
    "    parameters_to_optimise, classifier, \n",
    "    fm_mimic, fm_gicu, config, \n",
    "    verbose=False, savename=None\n",
    "):\n",
    "    \n",
    "    fpr_range = config['fpr_range'] \n",
    "    number_of_splits=config['n_splits']\n",
    "    features = config['features'][config['feature_set']]\n",
    "    use_gicu = 'gicu' in config['data_sources']\n",
    "    \n",
    "    # initialise results dictionary\n",
    "    results_dict = dict()\n",
    "    for dbs in ['gicu', 'mimic', 'train', 'combined']:\n",
    "        \n",
    "        results_dict['performance_%s' %dbs] = {\n",
    "            'auc': [],\n",
    "            'brier': []\n",
    "        }\n",
    "    \n",
    "        # the following metrics are evaulated at a range of FPR values:\n",
    "        performance_metrics = ['f1', 'accuracy', 'sensitivity', 'specificity', 'pauc']\n",
    "        for metric in performance_metrics:\n",
    "            results_dict['performance_%s' %dbs][metric] = {\n",
    "                '%.2f' %ff: []\n",
    "                for ff in fpr_range\n",
    "            }\n",
    "\n",
    "    params = []\n",
    "    this_seed = []\n",
    "    opt_clfs = []\n",
    "    \n",
    "    for sp in range(number_of_splits):\n",
    "        \n",
    "        print(\"Split %d\" %sp)\n",
    "        m_train, m_test, g_train, g_test = split_data(fm_mimic, fm_gicu, seed=sp)\n",
    "        \n",
    "        train = m_train.append(g_train)\n",
    "        combined = m_test.append(g_test)\n",
    "        \n",
    "        if use_gicu:\n",
    "            test_fold = [0 for i in m_train]  # 0th test fold is MIMC data\n",
    "            test_fold.extend([1 for i in g_train])  # 1st test fold is GICU data\n",
    "            cv_folds = PredefinedSplit(test_fold)\n",
    "        else:\n",
    "            cv_folds = config['cv_folds']\n",
    "    \n",
    "        print(\"Creating gridsearch.\")\n",
    "        clf = GridSearchCV(\n",
    "            classifier, parameters_to_optimise, cv=cv_folds, \n",
    "            scoring=config['fit_score'], return_train_score=False, refit=True, verbose=True, n_jobs=-1\n",
    "        )\n",
    "        \n",
    "        print(\"Running gridsearch...\")\n",
    "        clf.fit(train[features].to_numpy(), list(train['outcome']))\n",
    "        best_params = clf.best_params_\n",
    "        print(\"Gridsearch complete.\")\n",
    "        \n",
    "        # evaluate performance metrics on test sets, training set and combined test sets:\n",
    "        test_frames = (\n",
    "            {'gicu': g_test, 'mimic': m_test, 'train': train, 'combined': combined}\n",
    "            if use_gicu\n",
    "            else {'mimic': m_test, 'train': train}\n",
    "        )\n",
    "        for dbs in test_frames.keys():\n",
    "            \n",
    "            ytrue = list(test_frames[dbs]['outcome'])\n",
    "            ypred = clf.predict_proba(test_frames[dbs][features].to_numpy())[:,1]\n",
    "            results_dict = store_performance_results(ytrue, ypred, results_dict, sp, dbsource=dbs)\n",
    "\n",
    "        params.append(best_params)    \n",
    "        this_seed.append(sp)\n",
    "        opt_clfs.append(clf)\n",
    "        \n",
    "        if sp%20==0:\n",
    "            with open(savename, 'wb') as fh:\n",
    "                pickle.dump(results_dict, fh)\n",
    "    \n",
    "    ## add additional information to results dictionary\n",
    "    results_dict['optimal_classifiers'] = opt_clfs\n",
    "    results_dict['split_seeds'] = this_seed\n",
    "    results_dict['optimal_params'] = params\n",
    "    \n",
    "    with open(savename, 'wb') as fh:\n",
    "            pickle.dump(results_dict, fh)\n",
    "        \n",
    "    return results_dict"
   ]
  },
  {
   "cell_type": "markdown",
   "metadata": {},
   "source": [
    "#### LR classifier:"
   ]
  },
  {
   "cell_type": "code",
   "execution_count": 331,
   "metadata": {
    "tags": []
   },
   "outputs": [],
   "source": [
    "hyper_parameters = [{'C': np.logspace(-3,3,20)}]\n",
    "\n",
    "classifier = linear_model.LogisticRegression(\n",
    "    penalty='l1', random_state=config['random_seed'], \n",
    "    fit_intercept='True', solver='liblinear'\n",
    ")\n",
    "\n",
    "results_fname = config['results_directory'] / 'lr_results_raw_combined.pickle'"
   ]
  },
  {
   "cell_type": "code",
   "execution_count": 332,
   "metadata": {
    "tags": []
   },
   "outputs": [
    {
     "name": "stdout",
     "output_type": "stream",
     "text": [
      "Split 0\n",
      "Using 0.8941 of MIMIC as training data\n",
      "giving test sets gicu_test:1403 and mimic_test: 1403\n",
      "Creating gridsearch.\n",
      "Running gridsearch...\n",
      "Fitting 2 folds for each of 20 candidates, totalling 40 fits\n"
     ]
    },
    {
     "name": "stdout",
     "output_type": "stream",
     "text": [
      "Gridsearch complete.\n"
     ]
    }
   ],
   "source": [
    "lr_results = optimise_return_test_scores(\n",
    "    hyper_parameters, classifier, fm_mimic, fm_gicu, config, verbose=False, savename=results_fname\n",
    ")"
   ]
  },
  {
   "cell_type": "code",
   "execution_count": 333,
   "metadata": {
    "tags": []
   },
   "outputs": [
    {
     "name": "stdout",
     "output_type": "stream",
     "text": [
      "Mimic 0.8890 (+- 0.0000)\n",
      "GICU 0.8718 (+- 0.0000)\n",
      "Combined 0.8773 (+- 0.0000)\n",
      "Training 0.8725 (+- 0.0000)\n"
     ]
    }
   ],
   "source": [
    "metric = 'auc'\n",
    "\n",
    "print(\"Mimic %.4f (+- %.4f)\" %(np.mean(lr_results['performance_mimic'][metric]),np.std(lr_results['performance_mimic'][metric])))\n",
    "print(\"GICU %.4f (+- %.4f)\" %(np.mean(lr_results['performance_gicu'][metric]),np.std(lr_results['performance_gicu'][metric])) )\n",
    "print(\"Combined %.4f (+- %.4f)\" %(np.mean(lr_results['performance_combined'][metric]),np.std(lr_results['performance_combined'][metric])) )\n",
    "print(\"Training %.4f (+- %.4f)\" %(np.mean(lr_results['performance_train'][metric]),np.std(lr_results['performance_train'][metric])) )\n"
   ]
  },
  {
   "cell_type": "markdown",
   "metadata": {},
   "source": [
    "#### Random Forest:"
   ]
  },
  {
   "cell_type": "code",
   "execution_count": 334,
   "metadata": {
    "tags": []
   },
   "outputs": [],
   "source": [
    "hyper_parameters = [{'n_estimators': [20,50,100],'max_features': [0.3,0.5,0.7], 'max_depth':[4,5,6,7]}]\n",
    "classifier = RandomForestClassifier(random_state=config['random_seed'], n_jobs=-1)\n",
    "results_fname = config['results_directory'] / 'rf_results_raw_combined.pickle'"
   ]
  },
  {
   "cell_type": "code",
   "execution_count": 335,
   "metadata": {
    "tags": []
   },
   "outputs": [
    {
     "name": "stdout",
     "output_type": "stream",
     "text": [
      "Split 0\n",
      "Using 0.8941 of MIMIC as training data\n",
      "giving test sets gicu_test:1403 and mimic_test: 1403\n",
      "Creating gridsearch.\n",
      "Running gridsearch...\n",
      "Fitting 2 folds for each of 36 candidates, totalling 72 fits\n",
      "Gridsearch complete.\n"
     ]
    }
   ],
   "source": [
    "rf_results = optimise_return_test_scores(\n",
    "    hyper_parameters, classifier, fm_mimic, fm_gicu, \n",
    "    config, verbose=False, savename=results_fname\n",
    ")                        "
   ]
  },
  {
   "cell_type": "code",
   "execution_count": 363,
   "metadata": {
    "tags": []
   },
   "outputs": [
    {
     "name": "stdout",
     "output_type": "stream",
     "text": [
      "MIMIC 0.8944 (+- 0.0000)\n",
      "GICU 0.8678 (+- 0.0000)\n",
      "Combined 0.8818 (+- 0.0000)\n",
      "Training 0.8885 (+- 0.0000)\n",
      "f1 [0.8293299620733249]\n",
      "accuracy [0.8075552387740556]\n",
      "sensitivity [1.0]\n",
      "specificity [0.9]\n",
      "pauc [0.8818418565300443]\n"
     ]
    },
    {
     "data": {
      "text/plain": [
       "{'auc': [0.8818418565300443],\n",
       " 'brier': [0.14206911509915088],\n",
       " 'f1': {'0.10': [0.7006578947368423],\n",
       "  '0.20': [0.8025122121423588],\n",
       "  '0.30': [0.8293299620733249],\n",
       "  '0.40': [0.8187203791469194],\n",
       "  '0.50': [0.7975113122171946],\n",
       "  '0.60': [0.7729861676159479],\n",
       "  '0.70': [0.7483064095883272],\n",
       "  '0.80': [0.7240251572327044],\n",
       "  '0.90': [0.7009958707796939],\n",
       "  '1.00': [0.6792186396799247]},\n",
       " 'accuracy': {'0.10': [0.7405559515324305],\n",
       "  '0.20': [0.7982893799002139],\n",
       "  '0.30': [0.8075552387740556],\n",
       "  '0.40': [0.781895937277263],\n",
       "  '0.50': [0.744832501781896],\n",
       "  '0.60': [0.7017106200997861],\n",
       "  '0.70': [0.6557377049180327],\n",
       "  '0.80': [0.6090520313613685],\n",
       "  '0.90': [0.5612972202423379],\n",
       "  '1.00': [0.5142551674982181]},\n",
       " 'sensitivity': {'0.10': [0.5904365904365905],\n",
       "  '0.20': [0.796950796950797],\n",
       "  '0.30': [0.9092169092169092],\n",
       "  '0.40': [0.9577269577269577],\n",
       "  '0.50': [0.9771309771309772],\n",
       "  '0.60': [0.9875259875259875],\n",
       "  '0.70': [0.9951489951489951],\n",
       "  '0.80': [0.9972279972279973],\n",
       "  '0.90': [1.0],\n",
       "  '1.00': [1.0]},\n",
       " 'specificity': {'0.10': [0.9],\n",
       "  '0.20': [0.8],\n",
       "  '0.30': [0.7],\n",
       "  '0.40': [0.6],\n",
       "  '0.50': [0.5],\n",
       "  '0.60': [0.4],\n",
       "  '0.70': [0.29999999999999993],\n",
       "  '0.80': [0.19999999999999996],\n",
       "  '0.90': [0.09999999999999998],\n",
       "  '1.00': [0.0]},\n",
       " 'pauc': {'0.10': [0.03979064566005138],\n",
       "  '0.20': [0.10908995230345195],\n",
       "  '0.30': [0.19413796662512736],\n",
       "  '0.40': [0.28813875673743616],\n",
       "  '0.50': [0.38475037484575264],\n",
       "  '0.60': [0.48310868010060964],\n",
       "  '0.70': [0.5823509552783214],\n",
       "  '0.80': [0.6819963707711323],\n",
       "  '0.90': [0.7818418565300443],\n",
       "  '1.00': [0.8818418565300443]}}"
      ]
     },
     "execution_count": 363,
     "metadata": {},
     "output_type": "execute_result"
    }
   ],
   "source": [
    "# auc, brier\n",
    "\n",
    "metric = 'auc'\n",
    "print(\"MIMIC %.4f (+- %.4f)\" %(np.mean(rf_results['performance_mimic'][metric]),np.std(rf_results['performance_mimic'][metric])))\n",
    "print(\"GICU %.4f (+- %.4f)\" %(np.mean(rf_results['performance_gicu'][metric]),np.std(rf_results['performance_gicu'][metric])) )\n",
    "print(\"Combined %.4f (+- %.4f)\" %(np.mean(rf_results['performance_combined'][metric]),np.std(rf_results['performance_combined'][metric])) )\n",
    "print(\"Training %.4f (+- %.4f)\" %(np.mean(rf_results['performance_train'][metric]),np.std(rf_results['performance_train'][metric])) )\n",
    "\n",
    "\n",
    "# then max across the range for the others\n",
    "performance_metrics = ['f1', 'accuracy', 'sensitivity', 'specificity', 'pauc']\n",
    "\n",
    "for metric in performance_metrics:\n",
    "    print(metric, (max(rf_results['performance_combined'][metric].values())))\n",
    "\n",
    "\n",
    "rf_results['performance_combined']"
   ]
  },
  {
   "cell_type": "markdown",
   "metadata": {
    "tags": []
   },
   "source": [
    "#### Now we save one of each trained classifier along with the train and test data for that split:"
   ]
  },
  {
   "cell_type": "code",
   "execution_count": 339,
   "metadata": {
    "tags": []
   },
   "outputs": [],
   "source": [
    "rf = rf_results['optimal_classifiers'][0]\n",
    "lr = lr_results['optimal_classifiers'][0]"
   ]
  },
  {
   "cell_type": "code",
   "execution_count": 340,
   "metadata": {
    "tags": []
   },
   "outputs": [],
   "source": [
    "seed = rf_results['split_seeds'][0]\n",
    "lr_seed = lr_results['split_seeds'][0]\n",
    "assert lr_seed == seed"
   ]
  },
  {
   "cell_type": "code",
   "execution_count": 341,
   "metadata": {
    "tags": []
   },
   "outputs": [
    {
     "name": "stdout",
     "output_type": "stream",
     "text": [
      "Using 0.8941 of MIMIC as training data\n",
      "giving test sets gicu_test:1403 and mimic_test: 1403\n"
     ]
    }
   ],
   "source": [
    "m_train, m_test, g_train, g_test = split_data(fm_mimic, fm_gicu, seed=seed)"
   ]
  },
  {
   "cell_type": "code",
   "execution_count": 343,
   "metadata": {
    "tags": []
   },
   "outputs": [],
   "source": [
    "with open(config['results_directory'] / 'rf_combined_standardscale.pickle', 'wb') as out_file:\n",
    "    pickle.dump(rf, out_file)\n",
    "    \n",
    "with open(config['results_directory'] / 'lr_combined_standardscale.pickle', 'wb') as out_file:\n",
    "    pickle.dump(lr, out_file)"
   ]
  },
  {
   "cell_type": "code",
   "execution_count": 344,
   "metadata": {
    "tags": []
   },
   "outputs": [],
   "source": [
    "m_train.to_csv(config['results_directory'] / 'm_training_data_standardscale.csv')\n",
    "m_test.to_csv(config['results_directory'] / 'm_test_data_standardscale.csv')\n",
    "\n",
    "train_combined = m_train.append(g_train)\n",
    "test_combined = m_test.append(g_test)\n",
    "\n",
    "train_combined.to_csv(config['results_directory'] / 'combined_training_data_standardscale.csv')\n",
    "test_combined.to_csv(config['results_directory'] / 'combined_test_data_standardscale.csv')"
   ]
  },
  {
   "cell_type": "markdown",
   "metadata": {
    "tags": []
   },
   "source": [
    "#### Quick sanity check of classifier performance:"
   ]
  },
  {
   "cell_type": "code",
   "execution_count": 345,
   "metadata": {
    "tags": []
   },
   "outputs": [],
   "source": [
    "def roc(df, clf):\n",
    "    ytrue = df['outcome']\n",
    "    ypred = clf.predict_proba(df[features].to_numpy())[:,1]\n",
    "    fpr, tpr, _ = roc_curve(ytrue, ypred)\n",
    "    auc = auc_metric(fpr, tpr)\n",
    "    return fpr, tpr, auc"
   ]
  },
  {
   "cell_type": "code",
   "execution_count": 346,
   "metadata": {
    "tags": []
   },
   "outputs": [
    {
     "data": {
      "image/png": "[encoded data removed]",
      "text/plain": [
       "<Figure size 432x288 with 1 Axes>"
      ]
     },
     "metadata": {
      "needs_background": "light"
     },
     "output_type": "display_data"
    }
   ],
   "source": [
    "fpr_train, tpr_train, auc_train = roc(m_train, lr)\n",
    "fpr_test, tpr_test, auc_test = roc(m_test, lr)\n",
    "\n",
    "plt.plot(fpr_train, tpr_train, label='train (auc: %.3f)' % auc_train)\n",
    "plt.plot(fpr_test, tpr_test, label='test (auc: %.3f)' % auc_test)\n",
    "plt.xlabel('FPR')\n",
    "plt.ylabel('TPR')\n",
    "plt.title('Logistic Regression')\n",
    "plt.legend();"
   ]
  },
  {
   "cell_type": "code",
   "execution_count": 347,
   "metadata": {
    "tags": []
   },
   "outputs": [
    {
     "data": {
      "image/png": "[encoded data removed]",
      "text/plain": [
       "<Figure size 432x288 with 1 Axes>"
      ]
     },
     "metadata": {
      "needs_background": "light"
     },
     "output_type": "display_data"
    }
   ],
   "source": [
    "fpr_train, tpr_train, auc_train = roc(m_train, rf)\n",
    "fpr_test, tpr_test, auc_test = roc(m_test, rf)\n",
    "\n",
    "plt.plot(fpr_train, tpr_train, label='train (auc: %.3f)' % auc_train)\n",
    "plt.plot(fpr_test, tpr_test, label='test (auc: %.3f)' % auc_test)\n",
    "plt.xlabel('FPR')\n",
    "plt.ylabel('TPR')\n",
    "plt.title('Random Forest')\n",
    "plt.legend();"
   ]
  },
  {
   "cell_type": "code",
   "execution_count": 361,
   "metadata": {},
   "outputs": [
    {
     "name": "stdout",
     "output_type": "stream",
     "text": [
      "Using 0.8941 of MIMIC as training data\n",
      "giving test sets gicu_test:1403 and mimic_test: 1403\n",
      "     airway      fio2  spo2_min      hco3  resp_min  resp_max    bp_min  \\\n",
      "0 -0.569427  1.313961 -0.310969  0.063247 -0.703850 -1.170127  2.003506   \n",
      "1 -0.569427  0.575756  1.111420  1.112160  0.588508 -0.009624  0.891544   \n",
      "\n",
      "     hr_min    hr_max      pain  ...  temp_max  haemoglobin         k  \\\n",
      "0  0.304917 -0.227046  1.940477  ...  0.748216    -0.300501  0.824259   \n",
      "1 -0.532657 -0.861744 -0.604484  ...  0.590078    -0.421960 -0.813367   \n",
      "\n",
      "         na  creatinine       bun       bmi       los       age       sex  \n",
      "0 -0.710476   -0.443744 -0.765125  0.022914 -0.678402 -0.148308  1.088614  \n",
      "1  0.121503   -0.575071 -0.572680 -0.038786  0.666224 -0.350284  1.088614  \n",
      "\n",
      "[2 rows x 22 columns]\n"
     ]
    }
   ],
   "source": [
    "# Optionally scale the data:\n",
    "# split the data into train:test sets\n",
    "# fit the transform on the training set\n",
    "# transform both the training and test sets then recombine\n",
    "scale_data = True\n",
    "\n",
    "if scale_data:\n",
    "    # gather combined training data for both datasets\n",
    "    m_train, m_test, g_train, g_test = split_data(fm_mimic, fm_gicu, seed=seed)\n",
    "\n",
    "    train_combined = m_train.append(g_train)\n",
    "    test_combined = m_test.append(g_test)\n",
    "\n",
    "    train_combined_feats = train_combined[features]\n",
    "\n",
    "    # set up scaler, using all training data\n",
    "    scaler = StandardScaler()\n",
    "    scaler.fit(train_combined_feats)\n",
    "\n",
    "    # Then apply the scaler to the original fm_mimic and fm_gicu, adding back in unscaled cols and save updated copies\n",
    "    fm_mimic_standardscale_cols = pd.DataFrame(scaler.transform(fm_mimic[features]), columns = features)\n",
    "    fm_gicu_standardscale_cols = pd.DataFrame(scaler.transform(fm_gicu[features]), columns = features)\n",
    "\n",
    "    # Add back in other three columns \n",
    "    not_scaled = ['ICUSTAY_ID','cohort','outcome']\n",
    "\n",
    "    not_scaled_fm_mimic = fm_mimic[not_scaled]\n",
    "    not_scaled_fm_gicu = fm_gicu[not_scaled]\n",
    "\n",
    "    fm_mimic_standardscale = pd.concat([not_scaled_fm_mimic, fm_mimic_standardscale_cols], axis=1)\n",
    "    fm_gicu_standardscale = pd.concat([not_scaled_fm_gicu, fm_gicu_standardscale_cols], axis=1)\n",
    "\n",
    "    # Now save:\n",
    "    # scaled MIMIC and GICU datasets\n",
    "    fm_mimic_standardscale.to_csv('fms/fm_mimic_imputed_extended_standardscale.csv', index=False)\n",
    "    fm_gicu_standardscale.to_csv('fms/fm_gicu_imputed_extended_standardscale.csv', index=False)\n",
    "\n",
    "    # save scaler function\n",
    "    joblib.dump(scaler, 'standard_scaler.save')\n",
    "\n",
    "    new_scaler = joblib.load('standard_scaler.save')\n",
    "\n",
    "    reversed = pd.DataFrame(new_scaler.inverse_transform(fm_mimic_standardscale_cols), columns = features)\n",
    "\n",
    "    print(reversed.head(2))\n",
    "\n",
    "\n"
   ]
  },
  {
   "cell_type": "code",
   "execution_count": 372,
   "metadata": {},
   "outputs": [
    {
     "data": {
      "text/html": [
       "<div>\n",
       "<style scoped>\n",
       "    .dataframe tbody tr th:only-of-type {\n",
       "        vertical-align: middle;\n",
       "    }\n",
       "\n",
       "    .dataframe tbody tr th {\n",
       "        vertical-align: top;\n",
       "    }\n",
       "\n",
       "    .dataframe thead th {\n",
       "        text-align: right;\n",
       "    }\n",
       "</style>\n",
       "<table border=\"1\" class=\"dataframe\">\n",
       "  <thead>\n",
       "    <tr style=\"text-align: right;\">\n",
       "      <th></th>\n",
       "      <th>ICUSTAY_ID</th>\n",
       "      <th>cohort</th>\n",
       "      <th>outcome</th>\n",
       "      <th>airway</th>\n",
       "      <th>fio2</th>\n",
       "      <th>spo2_min</th>\n",
       "      <th>hco3</th>\n",
       "      <th>resp_min</th>\n",
       "      <th>resp_max</th>\n",
       "      <th>bp_min</th>\n",
       "      <th>...</th>\n",
       "      <th>temp_max</th>\n",
       "      <th>haemoglobin</th>\n",
       "      <th>k</th>\n",
       "      <th>na</th>\n",
       "      <th>creatinine</th>\n",
       "      <th>bun</th>\n",
       "      <th>bmi</th>\n",
       "      <th>los</th>\n",
       "      <th>age</th>\n",
       "      <th>sex</th>\n",
       "    </tr>\n",
       "  </thead>\n",
       "  <tbody>\n",
       "    <tr>\n",
       "      <th>1861</th>\n",
       "      <td>2306</td>\n",
       "      <td>1</td>\n",
       "      <td>0</td>\n",
       "      <td>-0.569427</td>\n",
       "      <td>0.206653</td>\n",
       "      <td>-0.026491</td>\n",
       "      <td>-2.244362</td>\n",
       "      <td>0.103874</td>\n",
       "      <td>-1.170127</td>\n",
       "      <td>-1.471374</td>\n",
       "      <td>...</td>\n",
       "      <td>-2.019549</td>\n",
       "      <td>-0.355158</td>\n",
       "      <td>-0.631409</td>\n",
       "      <td>0.745488</td>\n",
       "      <td>2.445444</td>\n",
       "      <td>6.210988</td>\n",
       "      <td>-0.079291</td>\n",
       "      <td>0.553477</td>\n",
       "      <td>0.356634</td>\n",
       "      <td>-0.918599</td>\n",
       "    </tr>\n",
       "    <tr>\n",
       "      <th>977</th>\n",
       "      <td>2306</td>\n",
       "      <td>1</td>\n",
       "      <td>1</td>\n",
       "      <td>-0.569427</td>\n",
       "      <td>0.723397</td>\n",
       "      <td>-0.595447</td>\n",
       "      <td>0.210095</td>\n",
       "      <td>-0.057671</td>\n",
       "      <td>-0.672769</td>\n",
       "      <td>-1.564037</td>\n",
       "      <td>...</td>\n",
       "      <td>-0.374690</td>\n",
       "      <td>3.227877</td>\n",
       "      <td>-0.085533</td>\n",
       "      <td>-0.918471</td>\n",
       "      <td>-0.376120</td>\n",
       "      <td>-0.639963</td>\n",
       "      <td>-0.056806</td>\n",
       "      <td>-0.725659</td>\n",
       "      <td>-0.188703</td>\n",
       "      <td>-0.918599</td>\n",
       "    </tr>\n",
       "  </tbody>\n",
       "</table>\n",
       "<p>2 rows × 25 columns</p>\n",
       "</div>"
      ],
      "text/plain": [
       "      ICUSTAY_ID  cohort  outcome    airway      fio2  spo2_min      hco3  \\\n",
       "1861        2306       1        0 -0.569427  0.206653 -0.026491 -2.244362   \n",
       "977         2306       1        1 -0.569427  0.723397 -0.595447  0.210095   \n",
       "\n",
       "      resp_min  resp_max    bp_min  ...  temp_max  haemoglobin         k  \\\n",
       "1861  0.103874 -1.170127 -1.471374  ... -2.019549    -0.355158 -0.631409   \n",
       "977  -0.057671 -0.672769 -1.564037  ... -0.374690     3.227877 -0.085533   \n",
       "\n",
       "            na  creatinine       bun       bmi       los       age       sex  \n",
       "1861  0.745488    2.445444  6.210988 -0.079291  0.553477  0.356634 -0.918599  \n",
       "977  -0.918471   -0.376120 -0.639963 -0.056806 -0.725659 -0.188703 -0.918599  \n",
       "\n",
       "[2 rows x 25 columns]"
      ]
     },
     "execution_count": 372,
     "metadata": {},
     "output_type": "execute_result"
    }
   ],
   "source": [
    "test_combined[test_combined['ICUSTAY_ID'] == 2306]"
   ]
  },
  {
   "cell_type": "code",
   "execution_count": 374,
   "metadata": {},
   "outputs": [
    {
     "data": {
      "text/plain": [
       "1    2720\n",
       "2      43\n",
       "Name: ICUSTAY_ID, dtype: int64"
      ]
     },
     "execution_count": 374,
     "metadata": {},
     "output_type": "execute_result"
    }
   ],
   "source": [
    "mum = test_combined['ICUSTAY_ID'].value_counts()\n",
    "mum.value_counts()"
   ]
  },
  {
   "cell_type": "code",
   "execution_count": null,
   "metadata": {},
   "outputs": [],
   "source": []
  }
 ],
 "metadata": {
  "kernelspec": {
   "display_name": "autoencode_intro",
   "language": "python",
   "name": "python3"
  },
  "language_info": {
   "codemirror_mode": {
    "name": "ipython",
    "version": 3
   },
   "file_extension": ".py",
   "mimetype": "text/x-python",
   "name": "python",
   "nbconvert_exporter": "python",
   "pygments_lexer": "ipython3",
   "version": "3.9.7"
  }
 },
 "nbformat": 4,
 "nbformat_minor": 4
}
